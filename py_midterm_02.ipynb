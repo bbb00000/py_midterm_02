{
 "cells": [
  {
   "cell_type": "code",
   "execution_count": 5,
   "metadata": {
    "collapsed": false
   },
   "outputs": [
    {
     "data": {
      "text/plain": [
       "2.8722813232690143"
      ]
     },
     "execution_count": 5,
     "metadata": {},
     "output_type": "execute_result"
    }
   ],
   "source": [
    "import math\n",
    "\n",
    "def SD_calculator(number_list):\n",
    "    \n",
    "    N = len(number_list)\n",
    "    summation = 0\n",
    "    \n",
    "    for n in number_list:\n",
    "        summation += n\n",
    "        numbers_mean = summation / N\n",
    "    \n",
    "    sum_sq_deviation = 0\n",
    "    for n in number_list:\n",
    "        sum_sq_deviation += (n - numbers_mean)**2\n",
    "    \n",
    "    return math.sqrt(sum_sq_deviation / N)\n",
    "    \n",
    "my_numbers = range(1, 11)\n",
    "SD_calculator(my_numbers)"
   ]
  },
  {
   "cell_type": "code",
   "execution_count": null,
   "metadata": {
    "collapsed": true
   },
   "outputs": [],
   "source": []
  }
 ],
 "metadata": {
  "kernelspec": {
   "display_name": "Python 3",
   "language": "python",
   "name": "python3"
  },
  "language_info": {
   "codemirror_mode": {
    "name": "ipython",
    "version": 3
   },
   "file_extension": ".py",
   "mimetype": "text/x-python",
   "name": "python",
   "nbconvert_exporter": "python",
   "pygments_lexer": "ipython3",
   "version": "3.6.0"
  }
 },
 "nbformat": 4,
 "nbformat_minor": 2
}
